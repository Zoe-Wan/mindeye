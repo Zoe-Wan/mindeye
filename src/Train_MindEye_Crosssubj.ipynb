{
 "cells": [
  {
   "cell_type": "code",
   "execution_count": 13,
   "id": "f4d95fac-ac1d-473c-ab96-650f76e6aaf5",
   "metadata": {
    "tags": []
   },
   "outputs": [
    {
     "name": "stdout",
     "output_type": "stream",
     "text": [
      "[NbConvertApp] Converting notebook Train_MindEye_Crosssubj.ipynb to python\n",
      "[NbConvertApp] Writing 30418 bytes to Train_MindEye_Crosssubj.py\n"
     ]
    }
   ],
   "source": [
    "# # Code to convert this notebook to .py if you want to run it via command line or with Slurm\n",
    "!jupyter nbconvert Train_MindEye_Crosssubj.ipynb --to python"
   ]
  },
  {
   "cell_type": "markdown",
   "id": "b0f0f4f3",
   "metadata": {},
   "source": [
    "# Import packages & functions"
   ]
  },
  {
   "cell_type": "code",
   "execution_count": 1,
   "id": "5bad764b-45c1-45ce-a716-8d055e09821a",
   "metadata": {
    "tags": []
   },
   "outputs": [
    {
     "name": "stderr",
     "output_type": "stream",
     "text": [
      "/root/miniconda3/envs/mindeye/lib/python3.10/site-packages/tqdm/auto.py:21: TqdmWarning: IProgress not found. Please update jupyter and ipywidgets. See https://ipywidgets.readthedocs.io/en/stable/user_install.html\n",
      "  from .autonotebook import tqdm as notebook_tqdm\n"
     ]
    },
    {
     "name": "stdout",
     "output_type": "stream",
     "text": [
      "PID of this process = 6405\n",
      "device: cuda\n",
      "Distributed environment: NO\n",
      "Num processes: 1\n",
      "Process index: 0\n",
      "Local process index: 0\n",
      "Device: cuda\n",
      "\n",
      "Mixed precision type: fp16\n",
      "\n",
      "distributed = False num_devices = 1 local rank = 0 world size = 1\n"
     ]
    }
   ],
   "source": [
    "import os\n",
    "os.environ['WANDB_BASE_URL'] = 'https://api.wandb.ai'\n",
    "import sys\n",
    "import json\n",
    "import argparse\n",
    "import numpy as np\n",
    "import matplotlib.pyplot as plt\n",
    "import torch\n",
    "import torch.nn as nn\n",
    "from tqdm import tqdm\n",
    "\n",
    "# tf32 data type is faster than standard float32\n",
    "torch.backends.cuda.matmul.allow_tf32 = True\n",
    "\n",
    "# custom models and functions #\n",
    "import utils\n",
    "from models import Clipper, BrainNetwork, BrainDiffusionPrior, BrainDiffusionPriorOld, VersatileDiffusionPriorNetwork\n",
    "\n",
    "# Multi-GPU config #\n",
    "from accelerate import Accelerator\n",
    "accelerator = Accelerator(split_batches=False,mixed_precision='fp16')  \n",
    "print(\"PID of this process =\",os.getpid())\n",
    "print = accelerator.print # only print if local_rank=0\n",
    "device = accelerator.device\n",
    "print(\"device:\",device)\n",
    "num_devices = torch.cuda.device_count()\n",
    "if num_devices==0: num_devices = 1\n",
    "num_workers = num_devices\n",
    "print(accelerator.state)\n",
    "local_rank = accelerator.state.local_process_index\n",
    "world_size = accelerator.state.num_processes\n",
    "distributed = not accelerator.state.distributed_type == 'NO'\n",
    "print(\"distributed =\",distributed, \"num_devices =\", num_devices, \"local rank =\", local_rank, \"world size =\", world_size)"
   ]
  },
  {
   "cell_type": "markdown",
   "id": "9018b82b-c054-4463-9527-4b0c2a75bda6",
   "metadata": {
    "tags": []
   },
   "source": [
    "# Configurations"
   ]
  },
  {
   "cell_type": "code",
   "execution_count": 2,
   "id": "2b61fec7-72a0-4b67-86da-1375f1d9fbd3",
   "metadata": {
    "tags": []
   },
   "outputs": [
    {
     "name": "stdout",
     "output_type": "stream",
     "text": [
      "['--data_path=/root/autodl-tmp/NSD', '--exp_name=fewshot', '--ckpt_name=baseline', '--subjM=1', '--subjD=2', '--hidden', '--clip_variant=ViT-L/14', '--batch_size=32', '--n_samples_save=0', '--wandb_log', '--max_lr=3e-4', '--mixup_pct=.33', '--num_epochs=240', '--ckpt_interval=10', '--use_image_aug']\n"
     ]
    },
    {
     "name": "stderr",
     "output_type": "stream",
     "text": [
      "UsageError: unrecognized arguments: # this allows you to change functions in models.py or utils.py and have this notebook automatically update with your revisions\n"
     ]
    }
   ],
   "source": [
    "# if running this interactively, can specify jupyter_args here for argparser to use\n",
    "if utils.is_interactive():\n",
    "    # Example use\n",
    "    jupyter_args = \"--data_path=/root/autodl-tmp/NSD \\\n",
    "                    --exp_name=fewshot --ckpt_name=baseline\\\n",
    "                    --subjM=1 --subjD=2 --hidden --clip_variant=ViT-L/14 --batch_size=32 --n_samples_save=0 --wandb_log\\\n",
    "                    --max_lr=3e-4 --mixup_pct=.33 --num_epochs=240 --ckpt_interval=10 --use_image_aug\"\n",
    "    \n",
    "    jupyter_args = jupyter_args.split()\n",
    "    print(jupyter_args)\n",
    "    \n",
    "    from IPython.display import clear_output # function to clear print outputs in cell\n",
    "    %load_ext autoreload \n",
    "    %autoreload 2 # this allows you to change functions in models.py or utils.py and have this notebook automatically update with your revisions"
   ]
  },
  {
   "cell_type": "code",
   "execution_count": 3,
   "id": "2028bdf0-2f41-46d9-b6e7-86b870dbf16c",
   "metadata": {
    "tags": []
   },
   "outputs": [
    {
     "name": "stdout",
     "output_type": "stream",
     "text": [
      "Note: not using cudnn.deterministic\n"
     ]
    }
   ],
   "source": [
    "parser = argparse.ArgumentParser(description=\"Model Training Configuration\")\n",
    "parser.add_argument(\n",
    "    \"--exp_name\", type=str, default=\"baseline\",\n",
    "    help=\"name of exp, used for ckpt saving and wandb logging (if enabled)\",\n",
    ")\n",
    "parser.add_argument(\n",
    "    \"--ckpt_name\", type=str, default=\"testing\",\n",
    "    help=\"name of ckpt model, used for ckpt saving and wandb logging (if enabled)\",\n",
    ")\n",
    "parser.add_argument(\n",
    "    \"--data_path\", type=str, default=\"/fsx/proj-medarc/fmri/natural-scenes-dataset\",\n",
    "    help=\"Path to where NSD data is stored / where to download it to\",\n",
    ")\n",
    "parser.add_argument(\n",
    "    \"--subjM\",type=int, default=1, choices=[1,2,5,7],\n",
    ")\n",
    "parser.add_argument(\n",
    "    \"--subjD\",type=int, default=2, choices=[1,2,5,7],\n",
    ")\n",
    "parser.add_argument(\n",
    "    \"--batch_size\", type=int, default=32,\n",
    "    help=\"Batch size can be increased by 10x if only training v2c and not diffusion prior\",\n",
    ")\n",
    "parser.add_argument(\n",
    "    \"--hidden\",action=argparse.BooleanOptionalAction,default=True,\n",
    "    help=\"if True, CLIP embeddings will come from last hidden layer (e.g., 257x768 - Versatile Diffusion), rather than final layer\",\n",
    ")\n",
    "parser.add_argument(\n",
    "    \"--clip_variant\",type=str,default=\"ViT-L/14\",choices=[\"RN50\", \"ViT-L/14\", \"ViT-B/32\", \"RN50x64\"],\n",
    "    help='OpenAI clip variant',\n",
    ")\n",
    "parser.add_argument(\n",
    "    \"--wandb_log\",action=argparse.BooleanOptionalAction,default=False,\n",
    "    help=\"whether to log to wandb\",\n",
    ")\n",
    "parser.add_argument(\n",
    "    \"--resume_from_ckpt\",action=argparse.BooleanOptionalAction,default=False,\n",
    "    help=\"if not using wandb and want to resume from a ckpt\",\n",
    ")\n",
    "parser.add_argument(\n",
    "    \"--wandb_project\",type=str,default=\"stability\",\n",
    "    help=\"wandb project name\",\n",
    ")\n",
    "parser.add_argument(\n",
    "    \"--mixup_pct\",type=float,default=.33,\n",
    "    help=\"proportion of way through training when to switch from BiMixCo to SoftCLIP\",\n",
    ")\n",
    "parser.add_argument(\n",
    "    \"--norm_embs\",action=argparse.BooleanOptionalAction,default=True,\n",
    "    help=\"Do l2-norming of CLIP embeddings\",\n",
    ")\n",
    "parser.add_argument(\n",
    "    \"--use_image_aug\",action=argparse.BooleanOptionalAction,default=True,\n",
    "    help=\"whether to use image augmentation\",\n",
    ")\n",
    "parser.add_argument(\n",
    "    \"--num_epochs\",type=int,default=240,\n",
    "    help=\"number of epochs of training\",\n",
    ")\n",
    "parser.add_argument(\n",
    "    \"--prior\",action=argparse.BooleanOptionalAction,default=True,\n",
    "    help=\"if False, will only use CLIP loss and ignore diffusion prior\",\n",
    ")\n",
    "parser.add_argument(\n",
    "    \"--v2c\",action=argparse.BooleanOptionalAction,default=True,\n",
    "    help=\"if False, will only use diffusion prior loss\",\n",
    ")\n",
    "parser.add_argument(\n",
    "    \"--plot_umap\",action=argparse.BooleanOptionalAction,default=False,\n",
    "    help=\"Plot UMAP plots alongside reconstructions\",\n",
    ")\n",
    "parser.add_argument(\n",
    "    \"--lr_scheduler_type\",type=str,default='cycle',choices=['cycle','linear'],\n",
    ")\n",
    "parser.add_argument(\n",
    "    \"--ckpt_saving\",action=argparse.BooleanOptionalAction,default=True,\n",
    ")\n",
    "parser.add_argument(\n",
    "    \"--ckpt_interval\",type=int,default=5,\n",
    "    help=\"save backup ckpt and reconstruct every x epochs\",\n",
    ")\n",
    "parser.add_argument(\n",
    "    \"--save_at_end\",action=argparse.BooleanOptionalAction,default=False,\n",
    "    help=\"if True, saves best.ckpt at end of training. if False and ckpt_saving==True, will save best.ckpt whenever epoch shows best validation score\",\n",
    ")\n",
    "parser.add_argument(\n",
    "    \"--seed\",type=int,default=42,\n",
    ")\n",
    "parser.add_argument(\n",
    "    \"--max_lr\",type=float,default=3e-4,\n",
    ")\n",
    "parser.add_argument(\n",
    "    \"--n_samples_save\",type=int,default=0,choices=[0,1],\n",
    "    help=\"Number of reconstructions for monitoring progress, 0 will speed up training\",\n",
    ")\n",
    "parser.add_argument(\n",
    "    \"--use_projector\",action=argparse.BooleanOptionalAction,default=True,\n",
    "    help=\"Additional MLP after the main MLP so model can separately learn a way to minimize NCE from prior loss (BYOL)\",\n",
    ")\n",
    "parser.add_argument(\n",
    "    \"--vd_cache_dir\", type=str, default='/fsx/proj-medarc/fmri/cache/models--shi-labs--versatile-diffusion/snapshots/2926f8e11ea526b562cd592b099fcf9c2985d0b7',\n",
    "    help=\"Where is cached Versatile Diffusion model; if not cached will download to this path\",\n",
    ")\n",
    "\n",
    "if utils.is_interactive():\n",
    "    args = parser.parse_args(jupyter_args)\n",
    "else:\n",
    "    args = parser.parse_args()\n",
    "\n",
    "# create global variables without the args prefix\n",
    "for attribute_name in vars(args).keys():\n",
    "    globals()[attribute_name] = getattr(args, attribute_name)\n",
    "    \n",
    "# need non-deterministic CuDNN for conv3D to work\n",
    "utils.seed_everything(seed, cudnn_deterministic=False)\n",
    "\n",
    "# change learning rate based on number of devices\n",
    "max_lr *= accelerator.num_processes\n",
    "    \n",
    "# change batch size based on number of devices if using multi-gpu\n",
    "# batch_size *= accelerator.num_processes\n",
    "\n",
    "# change num_epochs based on number of devices if using multi-gpu\n",
    "num_epochs *= accelerator.num_processes"
   ]
  },
  {
   "cell_type": "code",
   "execution_count": 4,
   "id": "60cd7f2c-37fd-426b-a0c6-633e51bc4c4d",
   "metadata": {
    "tags": []
   },
   "outputs": [],
   "source": [
    "outdir = f'/root/autodl-tmp/fMRI/train_logs/{exp_name}'\n",
    "if not os.path.exists(outdir):\n",
    "    os.makedirs(outdir,exist_ok=True)\n",
    "if use_image_aug:\n",
    "    import kornia\n",
    "    from kornia.augmentation.container import AugmentationSequential\n",
    "    img_augment = AugmentationSequential(\n",
    "        kornia.augmentation.RandomResizedCrop((224,224), (0.6,1), p=0.3),\n",
    "        kornia.augmentation.Resize((224, 224)),\n",
    "        kornia.augmentation.RandomHorizontalFlip(p=0.5),\n",
    "        kornia.augmentation.ColorJitter(brightness=0.4, contrast=0.4, saturation=0.2, hue=0.1, p=0.3),\n",
    "        kornia.augmentation.RandomGrayscale(p=0.3),\n",
    "        data_keys=[\"input\"],\n",
    "    )"
   ]
  },
  {
   "cell_type": "markdown",
   "id": "42d13c25-1369-4c49-81d4-83d713586096",
   "metadata": {
    "tags": []
   },
   "source": [
    "# Prep models and data loaders"
   ]
  },
  {
   "cell_type": "code",
   "execution_count": 5,
   "id": "d7966d5a-c8a9-4461-808a-2f89bb00fe9f",
   "metadata": {
    "tags": []
   },
   "outputs": [
    {
     "name": "stdout",
     "output_type": "stream",
     "text": [
      "Pulling NSD webdataset data...\n",
      "{/root/autodl-tmp/NSD/train/train_subj02_{0..17}.tar,/root/autodl-tmp/NSD/val/val_subj02_0.tar} \n",
      " /root/autodl-tmp/NSD/test/test_subj02_{0..1}.tar\n",
      "Prepping train and validation dataloaders...\n",
      "Getting dataloaders...\n",
      "\n",
      "num_train 2000\n",
      "global_batch_size 32\n",
      "batch_size 32\n",
      "num_workers 1\n",
      "num_batches 62\n",
      "num_worker_batches 62\n",
      "\n",
      "num_val 982\n",
      "val_num_batches 30\n",
      "val_batch_size 300\n"
     ]
    }
   ],
   "source": [
    "print('Pulling NSD webdataset data...')\n",
    "\n",
    "train_url = \"{\" + f\"{data_path}/train/train_subj0{subjD}_\" + \"{0..17}.tar,\" + f\"{data_path}/val/val_subj0{subjD}_0.tar\" + \"}\"\n",
    "val_url = f\"{data_path}/test/test_subj0{subjD}_\" + \"{0..1}.tar\"\n",
    "print(train_url,\"\\n\",val_url)\n",
    "meta_url = f\"{data_path}/metadata_subj0{subjD}.json\"\n",
    "num_train = 2000 \n",
    "num_val = 982\n",
    "\n",
    "print('Prepping train and validation dataloaders...')\n",
    "train_dl, val_dl, num_train, num_val = utils.get_dataloaders(\n",
    "    batch_size,'images',\n",
    "    num_devices=num_devices,\n",
    "    num_workers=num_workers,\n",
    "    train_url=train_url,\n",
    "    val_url=val_url,\n",
    "    meta_url=meta_url,\n",
    "    num_train=num_train,\n",
    "    num_val=num_val,\n",
    "    val_batch_size=300,\n",
    "    cache_dir=data_path, #\"/tmp/wds-cache\",\n",
    "    seed=seed,\n",
    "    voxels_key='nsdgeneral.npy',\n",
    "    to_tuple=[\"voxels\", \"images\", \"coco\"],\n",
    "    local_rank=local_rank,\n",
    "    world_size=world_size,\n",
    ")"
   ]
  },
  {
   "cell_type": "code",
   "execution_count": 6,
   "id": "e14d0482-dc42-43b9-9ce1-953c32f2c9c1",
   "metadata": {
    "tags": []
   },
   "outputs": [
    {
     "name": "stdout",
     "output_type": "stream",
     "text": [
      "Creating Clipper...\n",
      "Using hidden layer CLIP space (Versatile Diffusion)\n",
      "ViT-L/14 cuda\n",
      "out_dim: 197376\n",
      "Creating voxel2clip...\n",
      "params of voxel2clip:\n",
      "param counts:\n",
      "947,579,904 total\n",
      "947,579,904 trainable\n",
      "prior_network loaded\n",
      "params of diffusion prior:\n",
      "param counts:\n",
      "1,003,635,088 total\n",
      "1,003,635,072 trainable\n",
      "\n",
      "Done with model preparations!\n"
     ]
    }
   ],
   "source": [
    "print('Creating Clipper...')\n",
    "clip_sizes = {\"RN50\": 1024, \"ViT-L/14\": 768, \"ViT-B/32\": 512, \"ViT-H-14\": 1024}\n",
    "clip_size = clip_sizes[clip_variant]\n",
    "if hidden:\n",
    "    print(\"Using hidden layer CLIP space (Versatile Diffusion)\")\n",
    "    if not norm_embs:\n",
    "        print(\"WARNING: YOU WANT NORMED EMBEDDINGS FOR VERSATILE DIFFUSION!\")\n",
    "    clip_extractor = Clipper(clip_variant, device=device, hidden_state=True, norm_embs=norm_embs)\n",
    "    out_dim = 257 * clip_size\n",
    "else:\n",
    "    print(\"Using final layer CLIP space (Stable Diffusion Img Variations)\")\n",
    "    if norm_embs:\n",
    "        print(\"WARNING: YOU WANT UN-NORMED EMBEDDINGS FOR IMG VARIATIONS!\")\n",
    "    clip_extractor = Clipper(clip_variant, device=device, hidden_state=False, norm_embs=norm_embs)\n",
    "    out_dim = clip_size\n",
    "print(\"out_dim:\",out_dim)\n",
    "\n",
    "print('Creating voxel2clip...')\n",
    "subj_list = [15724,14278,15226.13153,13039,17907,12682,14386]\n",
    "voxelsM = subj_list[subjM-1]\n",
    "voxelsD = subj_list[subjD-1]\n",
    "\n",
    "voxel2clip_kwargs = dict(in_dim=voxelsM,out_dim=out_dim,clip_size=clip_size,use_projector=use_projector)\n",
    "voxel2clip = BrainNetwork(**voxel2clip_kwargs)\n",
    "    \n",
    "# load from ckpt\n",
    "voxel2clip_path = \"None\"\n",
    "if voxel2clip_path!=\"None\":\n",
    "    checkpoint = torch.load(voxel2clip_path, map_location='cpu')\n",
    "    voxel2clip.load_state_dict(checkpoint['model_state_dict'],strict=False)\n",
    "    del checkpoint\n",
    "    \n",
    "print(\"params of voxel2clip:\")\n",
    "if local_rank==0:\n",
    "    utils.count_params(voxel2clip)\n",
    "    \n",
    "# setup prior network\n",
    "out_dim = clip_size\n",
    "depth = 6\n",
    "dim_head = 64\n",
    "heads = clip_size//64 # heads * dim_head = 12 * 64 = 768\n",
    "if hidden:\n",
    "    guidance_scale = 3.5\n",
    "    timesteps = 100\n",
    "    prior_network = VersatileDiffusionPriorNetwork(\n",
    "            dim=out_dim,\n",
    "            depth=depth,\n",
    "            dim_head=dim_head,\n",
    "            heads=heads,\n",
    "            causal=False,\n",
    "            num_tokens = 257,\n",
    "            learned_query_mode=\"pos_emb\"\n",
    "        ).to(device)\n",
    "    print(\"prior_network loaded\")\n",
    "\n",
    "    # custom version that can fix seeds\n",
    "    diffusion_prior = BrainDiffusionPrior(\n",
    "        net=prior_network,\n",
    "        image_embed_dim=out_dim,\n",
    "        condition_on_text_encodings=False,\n",
    "        timesteps=timesteps,\n",
    "        cond_drop_prob=0.2,\n",
    "        image_embed_scale=None,\n",
    "        voxel2clip=voxel2clip,\n",
    "    ).to(device)\n",
    "else:\n",
    "    guidance_scale = 7.5\n",
    "    timesteps = 1000\n",
    "    diffusion_prior = BrainDiffusionPriorOld.from_pretrained(\n",
    "        # kwargs for DiffusionPriorNetwork\n",
    "        dict(),\n",
    "        # kwargs for DiffusionNetwork\n",
    "        dict(\n",
    "            condition_on_text_encodings=False,\n",
    "            timesteps=timesteps,\n",
    "            voxel2clip=voxel2clip,\n",
    "        ),\n",
    "        voxel2clip_path=None,\n",
    "    )\n",
    "\n",
    "if not prior:\n",
    "    diffusion_prior = diffusion_prior.requires_grad_(False)\n",
    "    diffusion_prior.voxel2clip.requires_grad_(True)\n",
    "\n",
    "print(\"params of diffusion prior:\")\n",
    "if local_rank==0:\n",
    "    utils.count_params(diffusion_prior)\n",
    "\n",
    "no_decay = ['bias', 'LayerNorm.bias', 'LayerNorm.weight']\n",
    "opt_grouped_parameters = [\n",
    "    {'params': [p for n, p in diffusion_prior.net.named_parameters() if not any(nd in n for nd in no_decay)], 'weight_decay': 1e-2},\n",
    "    {'params': [p for n, p in diffusion_prior.net.named_parameters() if any(nd in n for nd in no_decay)], 'weight_decay': 0.0},\n",
    "    {'params': [p for n, p in diffusion_prior.voxel2clip.named_parameters() if not any(nd in n for nd in no_decay)], 'weight_decay': 1e-2},\n",
    "    {'params': [p for n, p in diffusion_prior.voxel2clip.named_parameters() if any(nd in n for nd in no_decay)], 'weight_decay': 0.0}\n",
    "]\n",
    "optimizer = torch.optim.AdamW(opt_grouped_parameters, lr=max_lr)\n",
    "\n",
    "global_batch_size = batch_size * num_devices\n",
    "if lr_scheduler_type == 'linear':\n",
    "    lr_scheduler = torch.optim.lr_scheduler.LinearLR(\n",
    "        optimizer,\n",
    "        total_iters=int(num_epochs*(num_train//global_batch_size)),\n",
    "        last_epoch=-1\n",
    "    )\n",
    "elif lr_scheduler_type == 'cycle':\n",
    "    total_steps=int(num_epochs*(num_train//global_batch_size))\n",
    "    lr_scheduler = torch.optim.lr_scheduler.OneCycleLR(\n",
    "        optimizer, \n",
    "        max_lr=max_lr,\n",
    "        total_steps=total_steps,\n",
    "        final_div_factor=1000,\n",
    "        last_epoch=-1, pct_start=2/num_epochs\n",
    "    )\n",
    "    \n",
    "if plot_umap:\n",
    "    import umap\n",
    "    \n",
    "if n_samples_save > 0 and hidden:\n",
    "    print('Creating versatile diffusion reconstruction pipeline...')\n",
    "    from diffusers import VersatileDiffusionDualGuidedPipeline, UniPCMultistepScheduler\n",
    "    from diffusers.models import DualTransformer2DModel\n",
    "    try:\n",
    "        vd_pipe =  VersatileDiffusionDualGuidedPipeline.from_pretrained(vd_cache_dir).to('cpu')\n",
    "    except:\n",
    "        print(\"Downloading Versatile Diffusion to\", vd_cache_dir)\n",
    "        vd_pipe =  VersatileDiffusionDualGuidedPipeline.from_pretrained(\n",
    "                \"shi-labs/versatile-diffusion\",\n",
    "                cache_dir = vd_cache_dir).to('cpu')\n",
    "    vd_pipe.image_unet.eval()\n",
    "    vd_pipe.vae.eval()\n",
    "    vd_pipe.image_unet.requires_grad_(False)\n",
    "    vd_pipe.vae.requires_grad_(False)\n",
    "\n",
    "    vd_pipe.scheduler = UniPCMultistepScheduler.from_pretrained(vd_cache_dir, subfolder=\"scheduler\")\n",
    "    num_inference_steps = 20\n",
    "\n",
    "    # Set weighting of Dual-Guidance \n",
    "    text_image_ratio = .0 # .5 means equally weight text and image, 0 means use only image\n",
    "    for name, module in vd_pipe.image_unet.named_modules():\n",
    "        if isinstance(module, DualTransformer2DModel):\n",
    "            module.mix_ratio = text_image_ratio\n",
    "            for i, type in enumerate((\"text\", \"image\")):\n",
    "                if type == \"text\":\n",
    "                    module.condition_lengths[i] = 77\n",
    "                    module.transformer_index_for_condition[i] = 1  # use the second (text) transformer\n",
    "                else:\n",
    "                    module.condition_lengths[i] = 257\n",
    "                    module.transformer_index_for_condition[i] = 0  # use the first (image) transformer\n",
    "                    \n",
    "    unet = vd_pipe.image_unet\n",
    "    vae = vd_pipe.vae\n",
    "    noise_scheduler = vd_pipe.scheduler\n",
    "\n",
    "elif n_samples_save > 0:\n",
    "    print('Creating SD image variations reconstruction pipeline...')\n",
    "    from diffusers import AutoencoderKL, UNet2DConditionModel, UniPCMultistepScheduler\n",
    "\n",
    "    sd_cache_dir = '/fsx/home-paulscotti/.cache/huggingface/diffusers/models--lambdalabs--sd-image-variations-diffusers/snapshots/a2a13984e57db80adcc9e3f85d568dcccb9b29fc'\n",
    "    unet = UNet2DConditionModel.from_pretrained(sd_cache_dir,subfolder=\"unet\").to(device)\n",
    "\n",
    "    unet.eval() # dont want to train model\n",
    "    unet.requires_grad_(False) # dont need to calculate gradients\n",
    "\n",
    "    vae = AutoencoderKL.from_pretrained(sd_cache_dir,subfolder=\"vae\").to(device)\n",
    "    vae.eval()\n",
    "    vae.requires_grad_(False)\n",
    "\n",
    "    noise_scheduler = UniPCMultistepScheduler.from_pretrained(sd_cache_dir, subfolder=\"scheduler\")\n",
    "    num_inference_steps = 20\n",
    "    \n",
    "def save_ckpt(tag):    \n",
    "    ckpt_path = outdir+f'/{tag}.pth'\n",
    "    print(f'saving {ckpt_path}',flush=True)\n",
    "    unwrapped_model = accelerator.unwrap_model(diffusion_prior)\n",
    "    try:\n",
    "        torch.save({\n",
    "            'epoch': epoch,\n",
    "            'model_state_dict': unwrapped_model.state_dict(),\n",
    "            'optimizer_state_dict': optimizer.state_dict(),\n",
    "            'lr_scheduler': lr_scheduler.state_dict(),\n",
    "            'train_losses': losses,\n",
    "            'val_losses': val_losses,\n",
    "            'lrs': lrs,\n",
    "            }, ckpt_path)\n",
    "    except:\n",
    "        print(\"Couldn't save... moving on to prevent crashing.\")\n",
    "    del unwrapped_model\n",
    "        \n",
    "print(\"\\nDone with model preparations!\")"
   ]
  },
  {
   "cell_type": "markdown",
   "id": "983f458b-35b8-49f2-b6db-80296cece730",
   "metadata": {},
   "source": [
    "# Weights and Biases"
   ]
  },
  {
   "cell_type": "code",
   "execution_count": 7,
   "id": "0a25a662-daa8-4de9-9233-8364800fcb6b",
   "metadata": {
    "tags": []
   },
   "outputs": [
    {
     "name": "stdout",
     "output_type": "stream",
     "text": [
      "wandb stability run fewshot\n"
     ]
    },
    {
     "name": "stderr",
     "output_type": "stream",
     "text": [
      "\u001b[34m\u001b[1mwandb\u001b[0m: You can find your API key in your browser here: https://wandb.ai/authorize\n",
      "\u001b[34m\u001b[1mwandb\u001b[0m: Paste an API key from your profile and hit enter, or press ctrl+c to quit:"
     ]
    },
    {
     "name": "stdin",
     "output_type": "stream",
     "text": [
      "  ········\n"
     ]
    },
    {
     "name": "stderr",
     "output_type": "stream",
     "text": [
      "\u001b[34m\u001b[1mwandb\u001b[0m: Appending key for stability.wandb.io to your netrc file: /root/.netrc\n",
      "\u001b[34m\u001b[1mwandb\u001b[0m: Currently logged in as: \u001b[33mwangziyu\u001b[0m (\u001b[33mzoewan\u001b[0m). Use \u001b[1m`wandb login --relogin`\u001b[0m to force relogin\n"
     ]
    },
    {
     "name": "stdout",
     "output_type": "stream",
     "text": [
      "wandb_config:\n",
      " {'exp_name': 'fewshot', 'clip_variant': 'ViT-L/14', 'batch_size': 32, 'num_epochs': 240, 'use_image_aug': True, 'max_lr': 0.0003, 'lr_scheduler_type': 'cycle', 'mixup_pct': 0.33, 'num_train': 2000, 'num_val': 982, 'seed': 42, 'distributed': False, 'num_devices': 1, 'world_size': 1, 'train_url': '{/root/autodl-tmp/NSD/train/train_subj02_{0..17}.tar,/root/autodl-tmp/NSD/val/val_subj02_0.tar}', 'val_url': '/root/autodl-tmp/NSD/test/test_subj02_{0..1}.tar'}\n",
      "wandb_id: fewshot\n"
     ]
    },
    {
     "data": {
      "text/html": [
       "Tracking run with wandb version 0.16.2"
      ],
      "text/plain": [
       "<IPython.core.display.HTML object>"
      ]
     },
     "metadata": {},
     "output_type": "display_data"
    },
    {
     "data": {
      "text/html": [
       "Run data is saved locally in <code>/root/mindeye/src/wandb/run-20240130_023509-fewshot</code>"
      ],
      "text/plain": [
       "<IPython.core.display.HTML object>"
      ]
     },
     "metadata": {},
     "output_type": "display_data"
    },
    {
     "data": {
      "text/html": [
       "Resuming run <strong><a href='https://stability.wandb.io/zoewan/stability/runs/fewshot' target=\"_blank\">fewshot</a></strong> to <a href='https://stability.wandb.io/zoewan/stability' target=\"_blank\">Weights & Biases</a> (<a href='https://wandb.me/run' target=\"_blank\">docs</a>)<br/>"
      ],
      "text/plain": [
       "<IPython.core.display.HTML object>"
      ]
     },
     "metadata": {},
     "output_type": "display_data"
    },
    {
     "data": {
      "text/html": [
       " View project at <a href='https://stability.wandb.io/zoewan/stability' target=\"_blank\">https://stability.wandb.io/zoewan/stability</a>"
      ],
      "text/plain": [
       "<IPython.core.display.HTML object>"
      ]
     },
     "metadata": {},
     "output_type": "display_data"
    },
    {
     "data": {
      "text/html": [
       " View run at <a href='https://stability.wandb.io/zoewan/stability/runs/fewshot' target=\"_blank\">https://stability.wandb.io/zoewan/stability/runs/fewshot</a>"
      ],
      "text/plain": [
       "<IPython.core.display.HTML object>"
      ]
     },
     "metadata": {},
     "output_type": "display_data"
    }
   ],
   "source": [
    "# params for wandb\n",
    "if local_rank==0 and wandb_log: # only use main process for wandb logging\n",
    "    import wandb\n",
    "    \n",
    "    wandb_project = 'stability'\n",
    "    wandb_run = exp_name\n",
    "    wandb_notes = ''\n",
    "    \n",
    "    print(f\"wandb {wandb_project} run {wandb_run}\")\n",
    "    wandb.login(host='https://stability.wandb.io')#, relogin=True)\n",
    "    wandb_config = {\n",
    "      \"exp_name\": exp_name,\n",
    "      \"clip_variant\": clip_variant,\n",
    "      \"batch_size\": batch_size,\n",
    "      \"num_epochs\": num_epochs,\n",
    "      \"use_image_aug\": use_image_aug,\n",
    "      \"max_lr\": max_lr,\n",
    "      \"lr_scheduler_type\": lr_scheduler_type,\n",
    "      \"mixup_pct\": mixup_pct,\n",
    "      \"num_train\": num_train,\n",
    "      \"num_val\": num_val,\n",
    "      \"seed\": seed,\n",
    "      \"distributed\": distributed,\n",
    "      \"num_devices\": num_devices,\n",
    "      \"world_size\": world_size,\n",
    "      \"train_url\": train_url,\n",
    "      \"val_url\": val_url,\n",
    "    }\n",
    "    print(\"wandb_config:\\n\",wandb_config)\n",
    "    if True: # wandb_auto_resume\n",
    "        print(\"wandb_id:\",exp_name)\n",
    "        wandb.init(\n",
    "            id = exp_name,\n",
    "            project=wandb_project,\n",
    "            name=wandb_run,\n",
    "            config=wandb_config,\n",
    "            notes=wandb_notes,\n",
    "            resume=\"allow\",\n",
    "        )\n",
    "    else:\n",
    "        wandb.init(\n",
    "            project=wandb_project,\n",
    "            name=wandb_run,\n",
    "            config=wandb_config,\n",
    "            notes=wandb_notes,\n",
    "        )\n",
    "else:\n",
    "    wandb_log = False"
   ]
  },
  {
   "cell_type": "markdown",
   "id": "d5690151-2131-4918-b750-e869cbd1a8a8",
   "metadata": {},
   "source": [
    "# Main"
   ]
  },
  {
   "cell_type": "code",
   "execution_count": 10,
   "id": "12de6387-6e18-4e4b-b5ce-a847d625330a",
   "metadata": {
    "tags": []
   },
   "outputs": [
    {
     "name": "stdout",
     "output_type": "stream",
     "text": [
      "\n",
      "---resuming from last.pth ckpt---\n",
      "\n",
      "Epoch 149\n"
     ]
    },
    {
     "ename": "RuntimeError",
     "evalue": "Error(s) in loading state_dict for BrainDiffusionPrior:\n\tsize mismatch for voxel2clip.lin0.0.weight: copying a param with shape torch.Size([4096, 15724]) from checkpoint, the shape in current model is torch.Size([4096, 14278]).",
     "output_type": "error",
     "traceback": [
      "\u001b[0;31m---------------------------------------------------------------------------\u001b[0m",
      "\u001b[0;31mRuntimeError\u001b[0m                              Traceback (most recent call last)",
      "Cell \u001b[0;32mIn[10], line 20\u001b[0m\n\u001b[1;32m     18\u001b[0m optimizer\u001b[38;5;241m.\u001b[39mload_state_dict(checkpoint[\u001b[38;5;124m'\u001b[39m\u001b[38;5;124moptimizer_state_dict\u001b[39m\u001b[38;5;124m'\u001b[39m])\n\u001b[1;32m     19\u001b[0m lr_scheduler\u001b[38;5;241m.\u001b[39mload_state_dict(checkpoint[\u001b[38;5;124m'\u001b[39m\u001b[38;5;124mlr_scheduler\u001b[39m\u001b[38;5;124m'\u001b[39m])\n\u001b[0;32m---> 20\u001b[0m \u001b[43mdiffusion_prior\u001b[49m\u001b[38;5;241;43m.\u001b[39;49m\u001b[43mload_state_dict\u001b[49m\u001b[43m(\u001b[49m\u001b[43mcheckpoint\u001b[49m\u001b[43m[\u001b[49m\u001b[38;5;124;43m'\u001b[39;49m\u001b[38;5;124;43mmodel_state_dict\u001b[39;49m\u001b[38;5;124;43m'\u001b[39;49m\u001b[43m]\u001b[49m\u001b[43m)\u001b[49m\n\u001b[1;32m     21\u001b[0m \u001b[38;5;28;01mfor\u001b[39;00m param \u001b[38;5;129;01min\u001b[39;00m diffusion_prior\u001b[38;5;241m.\u001b[39mparameters():\n\u001b[1;32m     22\u001b[0m     param\u001b[38;5;241m.\u001b[39mrequires_grad \u001b[38;5;241m=\u001b[39m \u001b[38;5;28;01mFalse\u001b[39;00m\n",
      "File \u001b[0;32m~/miniconda3/envs/mindeye/lib/python3.10/site-packages/torch/nn/modules/module.py:2041\u001b[0m, in \u001b[0;36mModule.load_state_dict\u001b[0;34m(self, state_dict, strict)\u001b[0m\n\u001b[1;32m   2036\u001b[0m         error_msgs\u001b[38;5;241m.\u001b[39minsert(\n\u001b[1;32m   2037\u001b[0m             \u001b[38;5;241m0\u001b[39m, \u001b[38;5;124m'\u001b[39m\u001b[38;5;124mMissing key(s) in state_dict: \u001b[39m\u001b[38;5;132;01m{}\u001b[39;00m\u001b[38;5;124m. \u001b[39m\u001b[38;5;124m'\u001b[39m\u001b[38;5;241m.\u001b[39mformat(\n\u001b[1;32m   2038\u001b[0m                 \u001b[38;5;124m'\u001b[39m\u001b[38;5;124m, \u001b[39m\u001b[38;5;124m'\u001b[39m\u001b[38;5;241m.\u001b[39mjoin(\u001b[38;5;124m'\u001b[39m\u001b[38;5;124m\"\u001b[39m\u001b[38;5;132;01m{}\u001b[39;00m\u001b[38;5;124m\"\u001b[39m\u001b[38;5;124m'\u001b[39m\u001b[38;5;241m.\u001b[39mformat(k) \u001b[38;5;28;01mfor\u001b[39;00m k \u001b[38;5;129;01min\u001b[39;00m missing_keys)))\n\u001b[1;32m   2040\u001b[0m \u001b[38;5;28;01mif\u001b[39;00m \u001b[38;5;28mlen\u001b[39m(error_msgs) \u001b[38;5;241m>\u001b[39m \u001b[38;5;241m0\u001b[39m:\n\u001b[0;32m-> 2041\u001b[0m     \u001b[38;5;28;01mraise\u001b[39;00m \u001b[38;5;167;01mRuntimeError\u001b[39;00m(\u001b[38;5;124m'\u001b[39m\u001b[38;5;124mError(s) in loading state_dict for \u001b[39m\u001b[38;5;132;01m{}\u001b[39;00m\u001b[38;5;124m:\u001b[39m\u001b[38;5;130;01m\\n\u001b[39;00m\u001b[38;5;130;01m\\t\u001b[39;00m\u001b[38;5;132;01m{}\u001b[39;00m\u001b[38;5;124m'\u001b[39m\u001b[38;5;241m.\u001b[39mformat(\n\u001b[1;32m   2042\u001b[0m                        \u001b[38;5;28mself\u001b[39m\u001b[38;5;241m.\u001b[39m\u001b[38;5;18m__class__\u001b[39m\u001b[38;5;241m.\u001b[39m\u001b[38;5;18m__name__\u001b[39m, \u001b[38;5;124m\"\u001b[39m\u001b[38;5;130;01m\\n\u001b[39;00m\u001b[38;5;130;01m\\t\u001b[39;00m\u001b[38;5;124m\"\u001b[39m\u001b[38;5;241m.\u001b[39mjoin(error_msgs)))\n\u001b[1;32m   2043\u001b[0m \u001b[38;5;28;01mreturn\u001b[39;00m _IncompatibleKeys(missing_keys, unexpected_keys)\n",
      "\u001b[0;31mRuntimeError\u001b[0m: Error(s) in loading state_dict for BrainDiffusionPrior:\n\tsize mismatch for voxel2clip.lin0.0.weight: copying a param with shape torch.Size([4096, 15724]) from checkpoint, the shape in current model is torch.Size([4096, 14278])."
     ]
    }
   ],
   "source": [
    "\n",
    "losses, val_losses, lrs = [], [], []\n",
    "nce_losses, val_nce_losses = [], []\n",
    "sim_losses, val_sim_losses = [], []\n",
    "best_val_loss = 1e9\n",
    "soft_loss_temps = utils.cosine_anneal(0.004, 0.0075, num_epochs - int(mixup_pct * num_epochs))\n",
    "if hidden:\n",
    "    prior_mult = 30\n",
    "else:\n",
    "    prior_mult = .03\n",
    "val_voxel0 = val_image0 = None\n",
    "\n",
    "# Optionally resume from checkpoint #\n",
    "print(\"\\n---resuming from last.pth ckpt---\\n\")\n",
    "savedir =  f'/root/autodl-tmp/fMRI/train_logs/{ckpt_name}'\n",
    "checkpoint = torch.load(savedir+'/last.pth', map_location='cpu')\n",
    "epoch = checkpoint['epoch']\n",
    "\n",
    "print(\"Epoch\",epoch)\n",
    "optimizer.load_state_dict(checkpoint['optimizer_state_dict'])\n",
    "lr_scheduler.load_state_dict(checkpoint['lr_scheduler'])\n",
    "diffusion_prior.load_state_dict(checkpoint['model_state_dict'])\n",
    "for param in diffusion_prior.parameters():\n",
    "    param.requires_grad = False\n",
    "diffusion_prior.voxel2clip.lin0[0] = nn.Linear(voxelsD, 4096)\n",
    "\n",
    "del checkpoint\n",
    "\n",
    "torch.cuda.empty_cache()"
   ]
  },
  {
   "cell_type": "code",
   "execution_count": 11,
   "id": "98915e8e-b7f1-4cc3-8943-dcad8e14fec5",
   "metadata": {
    "tags": []
   },
   "outputs": [],
   "source": [
    "epoch=0\n",
    "opt_grouped_parameters = [\n",
    "    {'params': [p for n, p in diffusion_prior.net.named_parameters() if not any(nd in n for nd in no_decay)], 'weight_decay': 1e-2},\n",
    "    {'params': [p for n, p in diffusion_prior.net.named_parameters() if any(nd in n for nd in no_decay)], 'weight_decay': 0.0},\n",
    "    {'params': [p for n, p in diffusion_prior.voxel2clip.named_parameters() if not any(nd in n for nd in no_decay)], 'weight_decay': 1e-2},\n",
    "    {'params': [p for n, p in diffusion_prior.voxel2clip.named_parameters() if any(nd in n for nd in no_decay)], 'weight_decay': 0.0}\n",
    "]\n",
    "optimizer = torch.optim.AdamW(opt_grouped_parameters, lr=1e-5)"
   ]
  },
  {
   "cell_type": "code",
   "execution_count": 12,
   "id": "1d5ae0ca-02c2-43d1-b20a-d1a33801873f",
   "metadata": {
    "tags": []
   },
   "outputs": [],
   "source": [
    "diffusion_prior, optimizer, train_dl, val_dl, lr_scheduler = accelerator.prepare(\n",
    "diffusion_prior, optimizer, train_dl, val_dl, lr_scheduler\n",
    ")"
   ]
  },
  {
   "cell_type": "code",
   "execution_count": null,
   "id": "b4a3368c-e6ce-49cc-b970-ee3dba12dfcd",
   "metadata": {
    "tags": []
   },
   "outputs": [
    {
     "name": "stderr",
     "output_type": "stream",
     "text": [
      " 86%|███████████████████████████████████████████████████████████████████████████████████████████████████████████████████████████████████████████████████████████████████████████████████████████████████████████████████████████████████████████████████████████████████████████████████████████████████████████████████████████████████████████████████████████████████████████████████████████████████████████████████████████████████████████████████████████████████████████████████████████████████████████████████████████████████████████████████████████████████████████████████████████████████████████████████████████▊                                                                                                | 207/240 [3:52:36<35:24, 64.37s/it, train/bwd_pct_correct=tensor(0.9874, device='cuda:0'), train/cosine_sim_base=0.0716, train/fwd_pct_correct=tensor(0.9940, device='cuda:0'), train/loss=4.61, train/loss_nce=0.0566, train/loss_prior=0.152, train/lr=1e-5, train/num_steps=12896, val/cosine_sim_base=0.0779, val/loss=4.59, val/loss_nce=0.386, val/loss_prior=0.14, val/num_steps=624, val/val_bwd_pct_correct=tensor(0.8956, device='cuda:0'), val/val_fwd_pct_correct=tensor(0.9478, device='cuda:0')]"
     ]
    },
    {
     "name": "stdout",
     "output_type": "stream",
     "text": [
      "saving /root/autodl-tmp/fMRI/train_logs/fewshot/last.pth\n"
     ]
    },
    {
     "name": "stderr",
     "output_type": "stream",
     "text": [
      " 87%|██████████████████████████████████████████████████████████████████████████████████████████████████████████████████████████████████████████████████████████████████████████████████████████████████████████████████████████████████████████████████████████████████████████████████████████████████████████████████████████████████████████████████████████████████████████████████████████████████████████████████████████████████████████████████████████████████████████████████████████████████████████████████████████████████████████████████████████████████████████████████████████████████████████████████████████████▋                                                                                             | 208/240 [3:52:55<34:18, 64.34s/it, train/bwd_pct_correct=tensor(0.9874, device='cuda:0'), train/cosine_sim_base=0.0716, train/fwd_pct_correct=tensor(0.9940, device='cuda:0'), train/loss=4.61, train/loss_nce=0.0566, train/loss_prior=0.152, train/lr=1e-5, train/num_steps=12896, val/cosine_sim_base=0.0779, val/loss=4.59, val/loss_nce=0.386, val/loss_prior=0.14, val/num_steps=624, val/val_bwd_pct_correct=tensor(0.8956, device='cuda:0'), val/val_fwd_pct_correct=tensor(0.9478, device='cuda:0')]"
     ]
    }
   ],
   "source": [
    "print(f\"{exp_name} starting with epoch {epoch} / {num_epochs}\")\n",
    "progress_bar = tqdm(range(epoch,num_epochs), ncols=1200, disable=(local_rank!=0))\n",
    "\n",
    "for epoch in progress_bar:\n",
    "    diffusion_prior.train()\n",
    "\n",
    "    sims_base = 0.\n",
    "    val_sims_base = 0.\n",
    "    fwd_percent_correct = 0.\n",
    "    bwd_percent_correct = 0.\n",
    "    val_fwd_percent_correct = 0.\n",
    "    val_bwd_percent_correct = 0.\n",
    "    loss_nce_sum = 0.\n",
    "    loss_prior_sum = 0.\n",
    "    val_loss_nce_sum = 0.\n",
    "    val_loss_prior_sum = 0.\n",
    "\n",
    "    for train_i, (voxel, image, coco) in enumerate(train_dl):\n",
    "        with torch.cuda.amp.autocast():\n",
    "            optimizer.zero_grad()\n",
    "\n",
    "            repeat_index = train_i % 3\n",
    "            \n",
    "            if use_image_aug:\n",
    "                image = img_augment(image)\n",
    "                # plt.imshow(utils.torch_to_Image(image))\n",
    "                # plt.show()\n",
    "\n",
    "            voxel = voxel[:,repeat_index].float()\n",
    "\n",
    "            if epoch < int(mixup_pct * num_epochs):\n",
    "                voxel, perm, betas, select = utils.mixco(voxel)\n",
    "\n",
    "            clip_target = clip_extractor.embed_image(image).float()   \n",
    "\n",
    "            clip_voxels, clip_voxels_proj = diffusion_prior.module.voxel2clip(voxel) if distributed else diffusion_prior.voxel2clip(voxel)\n",
    "            if hidden:\n",
    "                clip_voxels = clip_voxels.view(len(voxel),-1,clip_size)\n",
    "            \n",
    "            if prior:\n",
    "                loss_prior, aligned_clip_voxels = diffusion_prior(text_embed=clip_voxels, image_embed=clip_target)\n",
    "                aligned_clip_voxels /= diffusion_prior.module.image_embed_scale if distributed else diffusion_prior.image_embed_scale\n",
    "            else:\n",
    "                aligned_clip_voxels = clip_voxels\n",
    "\n",
    "            clip_voxels_norm = nn.functional.normalize(clip_voxels_proj.flatten(1), dim=-1)\n",
    "            clip_target_norm = nn.functional.normalize(clip_target.flatten(1), dim=-1)\n",
    "\n",
    "            if epoch < int(mixup_pct * num_epochs):\n",
    "                loss_nce = utils.mixco_nce(\n",
    "                    clip_voxels_norm,\n",
    "                    clip_target_norm,\n",
    "                    temp=.006, \n",
    "                    perm=perm, betas=betas, select=select)\n",
    "            else:\n",
    "                epoch_temp = soft_loss_temps[epoch-int(mixup_pct*num_epochs)]\n",
    "                loss_nce = utils.soft_clip_loss(\n",
    "                    clip_voxels_norm,\n",
    "                    clip_target_norm,\n",
    "                    temp=epoch_temp)\n",
    "                \n",
    "            if prior and v2c:\n",
    "                loss_nce_sum += loss_nce.item()\n",
    "                loss_prior_sum += loss_prior.item()\n",
    "                loss = loss_nce + (prior_mult * loss_prior)\n",
    "            elif v2c:\n",
    "                loss_nce_sum += loss_nce.item()\n",
    "                loss = loss_nce\n",
    "            elif prior:\n",
    "                loss_prior_sum += loss_prior.item()\n",
    "                loss = prior_mult * loss_prior\n",
    "            utils.check_loss(loss)\n",
    "            \n",
    "            accelerator.backward(loss)\n",
    "            optimizer.step()\n",
    "\n",
    "            losses.append(loss.item())\n",
    "            lrs.append(optimizer.param_groups[0]['lr'])\n",
    "\n",
    "            # gather batches across multi-gpu if there's multiple\n",
    "            # clip_voxel_gather = accelerator.gather(clip_voxels_norm.view(len(voxel),-1).contiguous())\n",
    "            # clip_target_gather = accelerator.gather(clip_target_norm.view(len(voxel),-1).contiguous())\n",
    "\n",
    "            sims_base += nn.functional.cosine_similarity(clip_target_norm,clip_voxels_norm).mean().item()\n",
    "\n",
    "            # forward and backward top 1 accuracy        \n",
    "            labels = torch.arange(len(clip_target_norm)).to(device) \n",
    "            fwd_percent_correct += utils.topk(utils.batchwise_cosine_similarity(clip_voxels_norm,clip_target_norm), labels, k=1)\n",
    "            bwd_percent_correct += utils.topk(utils.batchwise_cosine_similarity(clip_target_norm, clip_voxels_norm), labels, k=1)\n",
    "\n",
    "            if lr_scheduler_type is not None:\n",
    "                lr_scheduler.step()\n",
    "\n",
    "    diffusion_prior.eval()\n",
    "    for val_i, (voxel, image, coco) in enumerate(val_dl): \n",
    "        with torch.no_grad():\n",
    "            with torch.cuda.amp.autocast():\n",
    "                # repeat_index = val_i % 3\n",
    "\n",
    "                # voxel = voxel[:,repeat_index].float()\n",
    "                voxel = torch.mean(voxel,axis=1).float()\n",
    "                \n",
    "                if use_image_aug:\n",
    "                    image = img_augment(image)\n",
    "\n",
    "                if val_image0 is None:\n",
    "                    val_image0 = image.detach().clone()\n",
    "                    val_voxel0 = voxel.detach().clone()\n",
    "\n",
    "                clip_target = clip_extractor.embed_image(image).float()\n",
    "\n",
    "                clip_voxels, clip_voxels_proj = diffusion_prior.module.voxel2clip(voxel) if distributed else diffusion_prior.voxel2clip(voxel)\n",
    "                if hidden:\n",
    "                    clip_voxels = clip_voxels.view(len(voxel),-1,clip_size)\n",
    "                \n",
    "                if prior:\n",
    "                    val_loss_prior, aligned_clip_voxels = diffusion_prior(text_embed=clip_voxels, image_embed=clip_target)\n",
    "                    aligned_clip_voxels /= diffusion_prior.module.image_embed_scale if distributed else diffusion_prior.image_embed_scale\n",
    "                else:\n",
    "                    aligned_clip_voxels = clip_voxels\n",
    "\n",
    "                clip_voxels_norm = nn.functional.normalize(clip_voxels_proj.flatten(1), dim=-1)\n",
    "                clip_target_norm = nn.functional.normalize(clip_target.flatten(1), dim=-1)\n",
    "\n",
    "                if epoch < int(mixup_pct * num_epochs):\n",
    "                    val_loss_nce = utils.mixco_nce(\n",
    "                        clip_voxels_norm,\n",
    "                        clip_target_norm,\n",
    "                        temp=.006, \n",
    "                        perm=None, betas=None, select=None)\n",
    "                else:\n",
    "                    val_loss_nce = utils.soft_clip_loss(\n",
    "                        clip_voxels_norm,\n",
    "                        clip_target_norm,\n",
    "                        temp=epoch_temp)\n",
    "\n",
    "                if prior and v2c:\n",
    "                    val_loss_nce_sum += val_loss_nce.item()\n",
    "                    val_loss_prior_sum += val_loss_prior.item()\n",
    "                    val_loss = val_loss_nce + (prior_mult * val_loss_prior)\n",
    "                elif v2c:\n",
    "                    val_loss_nce_sum += val_loss_nce.item()\n",
    "                    val_loss = val_loss_nce\n",
    "                elif prior:\n",
    "                    val_loss_prior_sum += val_loss_prior.item()\n",
    "                    val_loss = prior_mult * val_loss_prior\n",
    "                utils.check_loss(val_loss)\n",
    "                \n",
    "                val_losses.append(val_loss.item())\n",
    "\n",
    "                # clip_voxel_gather = accelerator.gather(clip_voxels_norm.view(len(voxel),-1).contiguous())\n",
    "                # clip_target_gather = accelerator.gather(clip_target_norm.view(len(voxel),-1).contiguous())\n",
    "\n",
    "                val_sims_base += nn.functional.cosine_similarity(clip_target_norm,clip_voxels_norm).mean().item()\n",
    "                \n",
    "                labels = torch.arange(len(clip_target_norm)).to(device)\n",
    "                val_fwd_percent_correct += utils.topk(utils.batchwise_cosine_similarity(clip_voxels_norm,clip_target_norm), labels, k=1)\n",
    "                val_bwd_percent_correct += utils.topk(utils.batchwise_cosine_similarity(clip_target_norm, clip_voxels_norm), labels, k=1)\n",
    "\n",
    "    if local_rank==0:        \n",
    "        if (not save_at_end and ckpt_saving) or (save_at_end and epoch == num_epochs - 1):\n",
    "            # save best model\n",
    "            val_loss = np.mean(val_losses[-(val_i+1):])\n",
    "            if val_loss < best_val_loss:\n",
    "                best_val_loss = val_loss\n",
    "                save_ckpt('best')\n",
    "            else:\n",
    "                print(f'not best - val_loss: {val_loss:.3f}, best_val_loss: {best_val_loss:.3f}')\n",
    "                \n",
    "        if utils.is_interactive():\n",
    "            clear_output(wait=True)\n",
    "            \n",
    "        logs = {\"train/loss\": np.mean(losses[-(train_i+1):]),\n",
    "            \"val/loss\": np.mean(val_losses[-(val_i+1):]),\n",
    "            \"train/lr\": lrs[-1],\n",
    "            \"train/num_steps\": len(losses),\n",
    "            \"val/num_steps\": len(val_losses),\n",
    "            \"train/cosine_sim_base\": sims_base / (train_i + 1),\n",
    "            \"val/cosine_sim_base\": val_sims_base / (val_i + 1),\n",
    "            \"train/fwd_pct_correct\": fwd_percent_correct / (train_i + 1),\n",
    "            \"train/bwd_pct_correct\": bwd_percent_correct / (train_i + 1),\n",
    "            \"val/val_fwd_pct_correct\": val_fwd_percent_correct / (val_i + 1),\n",
    "            \"val/val_bwd_pct_correct\": val_bwd_percent_correct / (val_i + 1),\n",
    "            \"train/loss_nce\": loss_nce_sum / (train_i + 1),\n",
    "            \"train/loss_prior\": loss_prior_sum / (train_i + 1),\n",
    "            \"val/loss_nce\": val_loss_nce_sum / (val_i + 1),\n",
    "            \"val/loss_prior\": val_loss_prior_sum / (val_i + 1)}\n",
    "        progress_bar.set_postfix(**logs)\n",
    "\n",
    "        # Save model checkpoint and reconstruct\n",
    "        save_ckpt(f'last')\n",
    "        \n",
    "                \n",
    "        if wandb_log: wandb.log(logs)\n",
    "        \n",
    "    # wait for other GPUs to catch up if needed\n",
    "    accelerator.wait_for_everyone()\n",
    "\n",
    "print(\"\\n===Finished!===\\n\")\n",
    "if not utils.is_interactive():\n",
    "    sys.exit(0)"
   ]
  },
  {
   "cell_type": "code",
   "execution_count": null,
   "id": "051f3974-d490-4cd5-b6a3-7a07bc99489e",
   "metadata": {},
   "outputs": [],
   "source": []
  }
 ],
 "metadata": {
  "kernelspec": {
   "display_name": "mindeye",
   "language": "python",
   "name": "mindeye"
  },
  "language_info": {
   "codemirror_mode": {
    "name": "ipython",
    "version": 3
   },
   "file_extension": ".py",
   "mimetype": "text/x-python",
   "name": "python",
   "nbconvert_exporter": "python",
   "pygments_lexer": "ipython3",
   "version": "3.10.8"
  },
  "toc": {
   "base_numbering": 1,
   "nav_menu": {},
   "number_sections": true,
   "sideBar": true,
   "skip_h1_title": false,
   "title_cell": "Table of Contents",
   "title_sidebar": "Contents",
   "toc_cell": false,
   "toc_position": {
    "height": "calc(100% - 180px)",
    "left": "10px",
    "top": "150px",
    "width": "165px"
   },
   "toc_section_display": true,
   "toc_window_display": true
  },
  "toc-autonumbering": true,
  "vscode": {
   "interpreter": {
    "hash": "62aae01ef0cf7b6af841ab1c8ce59175c4332e693ab3d00bc32ceffb78a35376"
   }
  }
 },
 "nbformat": 4,
 "nbformat_minor": 5
}
